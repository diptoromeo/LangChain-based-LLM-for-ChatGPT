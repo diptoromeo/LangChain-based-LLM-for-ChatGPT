{
  "nbformat": 4,
  "nbformat_minor": 0,
  "metadata": {
    "colab": {
      "provenance": [],
      "toc_visible": true,
      "authorship_tag": "ABX9TyO9bClFCHSHp1H5a6GR4fB6",
      "include_colab_link": true
    },
    "kernelspec": {
      "name": "python3",
      "display_name": "Python 3"
    },
    "language_info": {
      "name": "python"
    }
  },
  "cells": [
    {
      "cell_type": "markdown",
      "metadata": {
        "id": "view-in-github",
        "colab_type": "text"
      },
      "source": [
        "<a href=\"https://colab.research.google.com/github/diptoromeo/LangChain-based-LLM-for-ChatGPT/blob/main/01_LangChain_LLM.ipynb\" target=\"_parent\"><img src=\"https://colab.research.google.com/assets/colab-badge.svg\" alt=\"Open In Colab\"/></a>"
      ]
    },
    {
      "cell_type": "code",
      "source": [
        "!pip install langchain\n",
        "!pip install openai\n",
        "!pip install langchain_community langchain_core"
      ],
      "metadata": {
        "colab": {
          "base_uri": "https://localhost:8080/"
        },
        "id": "kvF51UcjzXZs",
        "outputId": "755cd620-8a50-4b69-bfc3-c83981e838c6"
      },
      "execution_count": 20,
      "outputs": [
        {
          "output_type": "stream",
          "name": "stdout",
          "text": [
            "Requirement already satisfied: langchain in /usr/local/lib/python3.10/dist-packages (0.2.8)\n",
            "Requirement already satisfied: PyYAML>=5.3 in /usr/local/lib/python3.10/dist-packages (from langchain) (6.0.1)\n",
            "Requirement already satisfied: SQLAlchemy<3,>=1.4 in /usr/local/lib/python3.10/dist-packages (from langchain) (2.0.31)\n",
            "Requirement already satisfied: aiohttp<4.0.0,>=3.8.3 in /usr/local/lib/python3.10/dist-packages (from langchain) (3.9.5)\n",
            "Requirement already satisfied: async-timeout<5.0.0,>=4.0.0 in /usr/local/lib/python3.10/dist-packages (from langchain) (4.0.3)\n",
            "Requirement already satisfied: langchain-core<0.3.0,>=0.2.19 in /usr/local/lib/python3.10/dist-packages (from langchain) (0.2.19)\n",
            "Requirement already satisfied: langchain-text-splitters<0.3.0,>=0.2.0 in /usr/local/lib/python3.10/dist-packages (from langchain) (0.2.2)\n",
            "Requirement already satisfied: langsmith<0.2.0,>=0.1.17 in /usr/local/lib/python3.10/dist-packages (from langchain) (0.1.86)\n",
            "Requirement already satisfied: numpy<2,>=1 in /usr/local/lib/python3.10/dist-packages (from langchain) (1.25.2)\n",
            "Requirement already satisfied: pydantic<3,>=1 in /usr/local/lib/python3.10/dist-packages (from langchain) (2.8.2)\n",
            "Requirement already satisfied: requests<3,>=2 in /usr/local/lib/python3.10/dist-packages (from langchain) (2.31.0)\n",
            "Requirement already satisfied: tenacity!=8.4.0,<9.0.0,>=8.1.0 in /usr/local/lib/python3.10/dist-packages (from langchain) (8.5.0)\n",
            "Requirement already satisfied: aiosignal>=1.1.2 in /usr/local/lib/python3.10/dist-packages (from aiohttp<4.0.0,>=3.8.3->langchain) (1.3.1)\n",
            "Requirement already satisfied: attrs>=17.3.0 in /usr/local/lib/python3.10/dist-packages (from aiohttp<4.0.0,>=3.8.3->langchain) (23.2.0)\n",
            "Requirement already satisfied: frozenlist>=1.1.1 in /usr/local/lib/python3.10/dist-packages (from aiohttp<4.0.0,>=3.8.3->langchain) (1.4.1)\n",
            "Requirement already satisfied: multidict<7.0,>=4.5 in /usr/local/lib/python3.10/dist-packages (from aiohttp<4.0.0,>=3.8.3->langchain) (6.0.5)\n",
            "Requirement already satisfied: yarl<2.0,>=1.0 in /usr/local/lib/python3.10/dist-packages (from aiohttp<4.0.0,>=3.8.3->langchain) (1.9.4)\n",
            "Requirement already satisfied: jsonpatch<2.0,>=1.33 in /usr/local/lib/python3.10/dist-packages (from langchain-core<0.3.0,>=0.2.19->langchain) (1.33)\n",
            "Requirement already satisfied: packaging<25,>=23.2 in /usr/local/lib/python3.10/dist-packages (from langchain-core<0.3.0,>=0.2.19->langchain) (24.1)\n",
            "Requirement already satisfied: orjson<4.0.0,>=3.9.14 in /usr/local/lib/python3.10/dist-packages (from langsmith<0.2.0,>=0.1.17->langchain) (3.10.6)\n",
            "Requirement already satisfied: annotated-types>=0.4.0 in /usr/local/lib/python3.10/dist-packages (from pydantic<3,>=1->langchain) (0.7.0)\n",
            "Requirement already satisfied: pydantic-core==2.20.1 in /usr/local/lib/python3.10/dist-packages (from pydantic<3,>=1->langchain) (2.20.1)\n",
            "Requirement already satisfied: typing-extensions>=4.6.1 in /usr/local/lib/python3.10/dist-packages (from pydantic<3,>=1->langchain) (4.12.2)\n",
            "Requirement already satisfied: charset-normalizer<4,>=2 in /usr/local/lib/python3.10/dist-packages (from requests<3,>=2->langchain) (3.3.2)\n",
            "Requirement already satisfied: idna<4,>=2.5 in /usr/local/lib/python3.10/dist-packages (from requests<3,>=2->langchain) (3.7)\n",
            "Requirement already satisfied: urllib3<3,>=1.21.1 in /usr/local/lib/python3.10/dist-packages (from requests<3,>=2->langchain) (2.0.7)\n",
            "Requirement already satisfied: certifi>=2017.4.17 in /usr/local/lib/python3.10/dist-packages (from requests<3,>=2->langchain) (2024.7.4)\n",
            "Requirement already satisfied: greenlet!=0.4.17 in /usr/local/lib/python3.10/dist-packages (from SQLAlchemy<3,>=1.4->langchain) (3.0.3)\n",
            "Requirement already satisfied: jsonpointer>=1.9 in /usr/local/lib/python3.10/dist-packages (from jsonpatch<2.0,>=1.33->langchain-core<0.3.0,>=0.2.19->langchain) (3.0.0)\n",
            "Requirement already satisfied: openai in /usr/local/lib/python3.10/dist-packages (1.35.14)\n",
            "Requirement already satisfied: anyio<5,>=3.5.0 in /usr/local/lib/python3.10/dist-packages (from openai) (3.7.1)\n",
            "Requirement already satisfied: distro<2,>=1.7.0 in /usr/lib/python3/dist-packages (from openai) (1.7.0)\n",
            "Requirement already satisfied: httpx<1,>=0.23.0 in /usr/local/lib/python3.10/dist-packages (from openai) (0.27.0)\n",
            "Requirement already satisfied: pydantic<3,>=1.9.0 in /usr/local/lib/python3.10/dist-packages (from openai) (2.8.2)\n",
            "Requirement already satisfied: sniffio in /usr/local/lib/python3.10/dist-packages (from openai) (1.3.1)\n",
            "Requirement already satisfied: tqdm>4 in /usr/local/lib/python3.10/dist-packages (from openai) (4.66.4)\n",
            "Requirement already satisfied: typing-extensions<5,>=4.7 in /usr/local/lib/python3.10/dist-packages (from openai) (4.12.2)\n",
            "Requirement already satisfied: idna>=2.8 in /usr/local/lib/python3.10/dist-packages (from anyio<5,>=3.5.0->openai) (3.7)\n",
            "Requirement already satisfied: exceptiongroup in /usr/local/lib/python3.10/dist-packages (from anyio<5,>=3.5.0->openai) (1.2.1)\n",
            "Requirement already satisfied: certifi in /usr/local/lib/python3.10/dist-packages (from httpx<1,>=0.23.0->openai) (2024.7.4)\n",
            "Requirement already satisfied: httpcore==1.* in /usr/local/lib/python3.10/dist-packages (from httpx<1,>=0.23.0->openai) (1.0.5)\n",
            "Requirement already satisfied: h11<0.15,>=0.13 in /usr/local/lib/python3.10/dist-packages (from httpcore==1.*->httpx<1,>=0.23.0->openai) (0.14.0)\n",
            "Requirement already satisfied: annotated-types>=0.4.0 in /usr/local/lib/python3.10/dist-packages (from pydantic<3,>=1.9.0->openai) (0.7.0)\n",
            "Requirement already satisfied: pydantic-core==2.20.1 in /usr/local/lib/python3.10/dist-packages (from pydantic<3,>=1.9.0->openai) (2.20.1)\n",
            "Requirement already satisfied: langchain_community in /usr/local/lib/python3.10/dist-packages (0.2.7)\n",
            "Requirement already satisfied: langchain_core in /usr/local/lib/python3.10/dist-packages (0.2.19)\n",
            "Requirement already satisfied: PyYAML>=5.3 in /usr/local/lib/python3.10/dist-packages (from langchain_community) (6.0.1)\n",
            "Requirement already satisfied: SQLAlchemy<3,>=1.4 in /usr/local/lib/python3.10/dist-packages (from langchain_community) (2.0.31)\n",
            "Requirement already satisfied: aiohttp<4.0.0,>=3.8.3 in /usr/local/lib/python3.10/dist-packages (from langchain_community) (3.9.5)\n",
            "Requirement already satisfied: dataclasses-json<0.7,>=0.5.7 in /usr/local/lib/python3.10/dist-packages (from langchain_community) (0.6.7)\n",
            "Requirement already satisfied: langchain<0.3.0,>=0.2.7 in /usr/local/lib/python3.10/dist-packages (from langchain_community) (0.2.8)\n",
            "Requirement already satisfied: langsmith<0.2.0,>=0.1.0 in /usr/local/lib/python3.10/dist-packages (from langchain_community) (0.1.86)\n",
            "Requirement already satisfied: numpy<2,>=1 in /usr/local/lib/python3.10/dist-packages (from langchain_community) (1.25.2)\n",
            "Requirement already satisfied: requests<3,>=2 in /usr/local/lib/python3.10/dist-packages (from langchain_community) (2.31.0)\n",
            "Requirement already satisfied: tenacity!=8.4.0,<9.0.0,>=8.1.0 in /usr/local/lib/python3.10/dist-packages (from langchain_community) (8.5.0)\n",
            "Requirement already satisfied: jsonpatch<2.0,>=1.33 in /usr/local/lib/python3.10/dist-packages (from langchain_core) (1.33)\n",
            "Requirement already satisfied: packaging<25,>=23.2 in /usr/local/lib/python3.10/dist-packages (from langchain_core) (24.1)\n",
            "Requirement already satisfied: pydantic<3,>=1 in /usr/local/lib/python3.10/dist-packages (from langchain_core) (2.8.2)\n",
            "Requirement already satisfied: aiosignal>=1.1.2 in /usr/local/lib/python3.10/dist-packages (from aiohttp<4.0.0,>=3.8.3->langchain_community) (1.3.1)\n",
            "Requirement already satisfied: attrs>=17.3.0 in /usr/local/lib/python3.10/dist-packages (from aiohttp<4.0.0,>=3.8.3->langchain_community) (23.2.0)\n",
            "Requirement already satisfied: frozenlist>=1.1.1 in /usr/local/lib/python3.10/dist-packages (from aiohttp<4.0.0,>=3.8.3->langchain_community) (1.4.1)\n",
            "Requirement already satisfied: multidict<7.0,>=4.5 in /usr/local/lib/python3.10/dist-packages (from aiohttp<4.0.0,>=3.8.3->langchain_community) (6.0.5)\n",
            "Requirement already satisfied: yarl<2.0,>=1.0 in /usr/local/lib/python3.10/dist-packages (from aiohttp<4.0.0,>=3.8.3->langchain_community) (1.9.4)\n",
            "Requirement already satisfied: async-timeout<5.0,>=4.0 in /usr/local/lib/python3.10/dist-packages (from aiohttp<4.0.0,>=3.8.3->langchain_community) (4.0.3)\n",
            "Requirement already satisfied: marshmallow<4.0.0,>=3.18.0 in /usr/local/lib/python3.10/dist-packages (from dataclasses-json<0.7,>=0.5.7->langchain_community) (3.21.3)\n",
            "Requirement already satisfied: typing-inspect<1,>=0.4.0 in /usr/local/lib/python3.10/dist-packages (from dataclasses-json<0.7,>=0.5.7->langchain_community) (0.9.0)\n",
            "Requirement already satisfied: jsonpointer>=1.9 in /usr/local/lib/python3.10/dist-packages (from jsonpatch<2.0,>=1.33->langchain_core) (3.0.0)\n",
            "Requirement already satisfied: langchain-text-splitters<0.3.0,>=0.2.0 in /usr/local/lib/python3.10/dist-packages (from langchain<0.3.0,>=0.2.7->langchain_community) (0.2.2)\n",
            "Requirement already satisfied: orjson<4.0.0,>=3.9.14 in /usr/local/lib/python3.10/dist-packages (from langsmith<0.2.0,>=0.1.0->langchain_community) (3.10.6)\n",
            "Requirement already satisfied: annotated-types>=0.4.0 in /usr/local/lib/python3.10/dist-packages (from pydantic<3,>=1->langchain_core) (0.7.0)\n",
            "Requirement already satisfied: pydantic-core==2.20.1 in /usr/local/lib/python3.10/dist-packages (from pydantic<3,>=1->langchain_core) (2.20.1)\n",
            "Requirement already satisfied: typing-extensions>=4.6.1 in /usr/local/lib/python3.10/dist-packages (from pydantic<3,>=1->langchain_core) (4.12.2)\n",
            "Requirement already satisfied: charset-normalizer<4,>=2 in /usr/local/lib/python3.10/dist-packages (from requests<3,>=2->langchain_community) (3.3.2)\n",
            "Requirement already satisfied: idna<4,>=2.5 in /usr/local/lib/python3.10/dist-packages (from requests<3,>=2->langchain_community) (3.7)\n",
            "Requirement already satisfied: urllib3<3,>=1.21.1 in /usr/local/lib/python3.10/dist-packages (from requests<3,>=2->langchain_community) (2.0.7)\n",
            "Requirement already satisfied: certifi>=2017.4.17 in /usr/local/lib/python3.10/dist-packages (from requests<3,>=2->langchain_community) (2024.7.4)\n",
            "Requirement already satisfied: greenlet!=0.4.17 in /usr/local/lib/python3.10/dist-packages (from SQLAlchemy<3,>=1.4->langchain_community) (3.0.3)\n",
            "Requirement already satisfied: mypy-extensions>=0.3.0 in /usr/local/lib/python3.10/dist-packages (from typing-inspect<1,>=0.4.0->dataclasses-json<0.7,>=0.5.7->langchain_community) (1.0.0)\n"
          ]
        }
      ]
    },
    {
      "cell_type": "code",
      "execution_count": 41,
      "metadata": {
        "id": "9Zdw8w9Acdrz"
      },
      "outputs": [],
      "source": [
        "import os\n",
        "\n",
        "os.environ['OPENAI_API_KEY'] = '34fcaca1b0b04ebc935168215a7b44e8'\n",
        "os.environ['OPENAI_API_TYPE'] = 'azure'\n",
        "os.environ['AZURE_OPENAI_ENDPOINT'] = 'https://labuser01openai.openai.azure.com/'\n",
        "os.environ['OPENAI_API_VERSION'] = '2023-05-15'"
      ]
    },
    {
      "cell_type": "code",
      "source": [
        "from langchain.llms import AzureOpenAI\n",
        "\n",
        "llm = AzureOpenAI(\n",
        "    deployment_name = 'dev-davinci-002'\n",
        ")"
      ],
      "metadata": {
        "id": "DyWr67EW0xSr"
      },
      "execution_count": 42,
      "outputs": []
    },
    {
      "cell_type": "code",
      "source": [
        "llm.invoke('Why python is most popular language?')"
      ],
      "metadata": {
        "colab": {
          "base_uri": "https://localhost:8080/",
          "height": 145
        },
        "id": "y7_OLcIA2QyL",
        "outputId": "c91ad8cb-3cc9-4617-8209-fd7568973f43"
      },
      "execution_count": 43,
      "outputs": [
        {
          "output_type": "execute_result",
          "data": {
            "text/plain": [
              "' How do I get started with Python? Should I learn Java or Python? Is C++ a dying language? Is Python worth learning 2020? Is coding a waste of time? Can I learn python on my own? What is the most used programming language in the world 2020? How many hours a day should you practice coding? Can I learn python in 1 month? Is Python enough to get a job? Can I get a job if I know Python? Is Python enough to get a job in data science? Why is python so popular? How many hours does it take to learn Python? Is Python worth learning 2020?\\n\\nHow long does it take to learn Python?\\n\\n4 to 8 weeksHow Long Does It Take to Learn Python.\\n\\nIf you work on Python full-time, it should take between 4 to 8 weeks to learn the basics of Python programming..\\n\\nIs Python a dying language?\\n\\nIs Python worth learning in 2020?\\n\\nWhich is better Python or Java?\\n\\nCan I learn python in a week?\\n\\nYou can learn Python in a week, but not if you want to be a programmer. You can learn Python in a week, but that is not going to be enough to be a programmer. … So, if you want to'"
            ],
            "application/vnd.google.colaboratory.intrinsic+json": {
              "type": "string"
            }
          },
          "metadata": {},
          "execution_count": 43
        }
      ]
    },
    {
      "cell_type": "code",
      "source": [
        "llm = AzureOpenAI(\n",
        "    deployment_name = 'dev-gpt-35-turbo-instruct'\n",
        ")\n"
      ],
      "metadata": {
        "id": "g7xFL9T27AVK"
      },
      "execution_count": 48,
      "outputs": []
    },
    {
      "cell_type": "code",
      "source": [
        "llm.invoke('Why python is most popular language?')"
      ],
      "metadata": {
        "colab": {
          "base_uri": "https://localhost:8080/",
          "height": 145
        },
        "id": "6KWSKJxo72sh",
        "outputId": "577555b8-c280-4f51-9bcd-e15fd638a566"
      },
      "execution_count": 49,
      "outputs": [
        {
          "output_type": "execute_result",
          "data": {
            "text/plain": [
              "\"\\n1. Easy to Learn and Use: Python has a simple and intuitive syntax that is easy to understand and learn. This makes it a popular choice for beginners and non-programmers.\\n\\n2. Versatile and Flexible: Python is a versatile language that can be used for a wide range of applications, including web development, data analysis, artificial intelligence, and scientific computing. Its flexibility allows developers to use it for different purposes without having to learn multiple languages.\\n\\n3. Large and Active Community: Python has a large and active community of developers, users, and contributors. This community provides support, resources, and libraries for developers, making it easier to learn and use the language.\\n\\n4. Extensive Libraries and Frameworks: Python has a rich set of libraries and frameworks that can be used for various tasks, such as web development, data analysis, and machine learning. These libraries and frameworks save developers time and effort in writing code from scratch.\\n\\n5. High Demand in the Job Market: Python is one of the most in-demand programming languages in the job market, with a wide range of job opportunities in various industries. This makes it a popular choice for students and professionals looking to advance their careers.\\n\\n6. Strong Presence in Data Science and Machine Learning: Python's popularity in data science\""
            ],
            "application/vnd.google.colaboratory.intrinsic+json": {
              "type": "string"
            }
          },
          "metadata": {},
          "execution_count": 49
        }
      ]
    },
    {
      "cell_type": "code",
      "source": [
        "from langchain.chat_models import AzureChatOpenAI\n",
        "\n",
        "chatgpt = AzureChatOpenAI(\n",
        "    deployment_name = 'dev-gpt-35'\n",
        ")"
      ],
      "metadata": {
        "id": "vSbWHR0t3-VS"
      },
      "execution_count": 31,
      "outputs": []
    },
    {
      "cell_type": "code",
      "source": [
        "chatgpt.invoke('Why python is most popular language?')"
      ],
      "metadata": {
        "colab": {
          "base_uri": "https://localhost:8080/"
        },
        "id": "CJs7Ln9Q4RZB",
        "outputId": "25af99cc-f20f-4b94-cb0b-121f54b7559e"
      },
      "execution_count": 33,
      "outputs": [
        {
          "output_type": "execute_result",
          "data": {
            "text/plain": [
              "AIMessage(content=\"Python is one of the most popular programming languages for several reasons:\\n\\n1. Easy to learn and read: Python has a simple and intuitive syntax, which makes it easier for beginners to understand and write code. It emphasizes readability, allowing developers to express concepts in fewer lines of code compared to other languages.\\n\\n2. Versatility and wide range of applications: Python can be used for various purposes such as web development, data analysis, artificial intelligence, scientific computing, automation, and more. Its extensive standard library and numerous third-party libraries make it a versatile language suitable for different domains.\\n\\n3. Large and active community: Python has a vast and supportive community of developers who contribute to its growth and share their knowledge. This active community ensures continuous development, improvement, and availability of resources, tutorials, libraries, and frameworks for Python.\\n\\n4. Extensive libraries and frameworks: Python offers a rich ecosystem of libraries and frameworks that simplify and accelerate development. Popular libraries like NumPy, Pandas, TensorFlow, and Django provide ready-to-use functionalities for various tasks, reducing the effort required to build complex applications.\\n\\n5. Integration capabilities: Python has excellent integration capabilities with other languages and platforms. It can easily interface with languages like C, C++, Java, and .NET, allowing developers to combine Python with existing code bases or use it as a scripting language for larger projects.\\n\\n6. High demand and job opportunities: The popularity of Python has led to a significant demand for Python developers in various industries. Its versatility and wide range of applications make it a valuable skill for job seekers, contributing to its popularity.\\n\\nOverall, Python's simplicity, versatility, extensive libraries, strong community support, and job opportunities have contributed to its popularity as one of the most widely used programming languages.\", response_metadata={'token_usage': {'completion_tokens': 350, 'prompt_tokens': 14, 'total_tokens': 364}, 'model_name': 'gpt-35-turbo', 'system_fingerprint': None, 'finish_reason': 'stop', 'logprobs': None}, id='run-986b042c-565a-43fe-a46d-3ed63074647a-0')"
            ]
          },
          "metadata": {},
          "execution_count": 33
        }
      ]
    },
    {
      "cell_type": "code",
      "source": [
        "chatgpt = AzureChatOpenAI(deployment_name = 'dev-gpt-35', temperature = 0)"
      ],
      "metadata": {
        "id": "D7M4Sy0Y5xxq"
      },
      "execution_count": 35,
      "outputs": []
    },
    {
      "cell_type": "code",
      "source": [
        "chatgpt.invoke('Why python is most popular language? answer in korean')"
      ],
      "metadata": {
        "colab": {
          "base_uri": "https://localhost:8080/"
        },
        "id": "jDigahYM6FJK",
        "outputId": "758f3d55-3877-43cf-ddaa-e104df30698c"
      },
      "execution_count": 36,
      "outputs": [
        {
          "output_type": "execute_result",
          "data": {
            "text/plain": [
              "AIMessage(content='파이썬은 가장 인기 있는 언어인 이유는 다음과 같습니다.\\n\\n1. 쉬운 문법: 파이썬은 간결하고 읽기 쉬운 문법을 가지고 있어 초보자도 쉽게 배울 수 있습니다. 이로 인해 프로그래밍을 처음 접하는 사람들에게 많은 인기를 얻고 있습니다.\\n\\n2. 다양한 용도: 파이썬은 웹 개발, 데이터 분석, 인공지능, 자동화 등 다양한 분야에서 사용될 수 있습니다. 이러한 다양한 용도로 인해 파이썬은 많은 개발자들에게 선택되고 있습니다.\\n\\n3. 강력한 라이브러리: 파이썬은 다양한 라이브러리와 프레임워크를 제공하여 개발자들이 효율적으로 작업할 수 있도록 도와줍니다. 예를 들어, 데이터 분석을 위한 pandas, 인공지능을 위한 TensorFlow 등이 있습니다.\\n\\n4. 커뮤니티의 지원: 파이썬은 전 세계적으로 많은 개발자들이 사용하고 있어 커뮤니티가 활발하게 운영되고 있습니다. 이로 인해 문제 해결이나 도움을 받을 수 있는 자료들이 많이 존재하며, 개발자들 간의 지식 공유가 활발하게 이루어집니다.\\n\\n5. 크로스 플랫폼 지원: 파이썬은 다양한 운영체제에서 동작할 수 있으며, 이식성이 뛰어나다는 장점이 있습니다. 따라서 여러 플랫폼에서 개발을 할 수 있어 개발자들에게 유용합니다.\\n\\n이러한 이유들로 인해 파이썬은 가장 인기 있는 프로그래밍 언어 중 하나로 꼽히고 있습니다.', response_metadata={'token_usage': {'completion_tokens': 568, 'prompt_tokens': 18, 'total_tokens': 586}, 'model_name': 'gpt-35-turbo', 'system_fingerprint': None, 'finish_reason': 'stop', 'logprobs': None}, id='run-5c273ad1-6540-4bc3-ab72-ada33dc3f501-0')"
            ]
          },
          "metadata": {},
          "execution_count": 36
        }
      ]
    },
    {
      "cell_type": "code",
      "source": [
        "chatgpt = AzureChatOpenAI(deployment_name = 'dev-gpt-35', temperature = 1)\n",
        "chatgpt.invoke('Why python is most popular language? answer in korean')"
      ],
      "metadata": {
        "colab": {
          "base_uri": "https://localhost:8080/"
        },
        "id": "HIYFbLLx6hvq",
        "outputId": "53528836-f303-4ede-c54b-58a6a7f1fbf3"
      },
      "execution_count": 37,
      "outputs": [
        {
          "output_type": "execute_result",
          "data": {
            "text/plain": [
              "AIMessage(content='Python(파이썬)은 가장 인기 있는 프로그래밍 언어가 되는 이유가 다음과 같습니다.\\n\\n1. 쉬운 문법: Python은 간결하고 읽기 쉬운 문법을 가지고 있어 입문자들에게 매우 적합합니다. 배우기 쉬운 구조와 명확한 표현으로 코드 작성이 간편합니다.\\n\\n2. 다양한 용도: Python은 웹 개발, 데이터 분석, 인공지능, 자동화, 게임 개발 등 다양한 분야에서 사용될 수 있습니다. 이러한 다양한 용도로 널리 사용되기 때문에 많은 사람들이 Python을 학습하고 사용하고 있습니다.\\n\\n3. 라이브러리 및 프레임워크: Python은 다양한 라이브러리와 프레임워크를 제공합니다. 이러한 라이브러리와 프레임워크는 개발자들이 빠르게 프로젝트를 구현하고 해결할 수 있도록 도와줍니다.\\n\\n4. 커뮤니티: Python은 매우 활발하고 거대한 개발자 커뮤니티를 가지고 있습니다. 이러한 커뮤니티는 지원 및 도움을 제공하며 코드 공유 및 협력이 매우 쉽습니다. 또한, 다양한 온라인 자료와 튜토리얼도 많이 제공되어 학습 과정을 보다 쉽게 할 수 있습니다.\\n\\n5. 크로스 플랫폼: Python은 다양한 운영체제에서 동일하게 작동합니다. 따라서, 윈도우, 맥, 리눅스 등 다양한 환경에서 호환성 문제없이 사용할 수 있습니다.\\n\\n이러한 이유들로 인해 Python은 많은 개발자들과 기업에서 인기있는 언어로 선택되고 있습니다. 수많은 사람들이 Python으로 개발을 시작하고 있으며, 그 인기는 계속해서 증가하고 있습니다.', response_metadata={'token_usage': {'completion_tokens': 613, 'prompt_tokens': 18, 'total_tokens': 631}, 'model_name': 'gpt-35-turbo', 'system_fingerprint': None, 'finish_reason': 'stop', 'logprobs': None}, id='run-7164cfc8-6696-4163-9eb8-59a5c62a7a5f-0')"
            ]
          },
          "metadata": {},
          "execution_count": 37
        }
      ]
    },
    {
      "cell_type": "code",
      "source": [
        "from langchain.schema import SystemMessage, HumanMessage, AIMessage"
      ],
      "metadata": {
        "id": "gfdDitSm_9MB"
      },
      "execution_count": 50,
      "outputs": []
    },
    {
      "cell_type": "code",
      "source": [
        "messages = [\n",
        "    SystemMessage(content = 'You are a helpful assistant that translates English to Korean'),\n",
        "    HumanMessage(content = 'I love langchain')\n",
        "]\n"
      ],
      "metadata": {
        "id": "WDQe9ciAACG5"
      },
      "execution_count": 51,
      "outputs": []
    },
    {
      "cell_type": "code",
      "source": [
        "chatgpt = AzureChatOpenAI(deployment_name = 'dev-gpt-35')\n",
        "response =chatgpt(messages)\n",
        "response.content"
      ],
      "metadata": {
        "colab": {
          "base_uri": "https://localhost:8080/",
          "height": 35
        },
        "id": "quy1Mwl9Ay7K",
        "outputId": "6f86a967-2af4-461b-f79a-6dedf5a410b4"
      },
      "execution_count": 53,
      "outputs": [
        {
          "output_type": "execute_result",
          "data": {
            "text/plain": [
              "'저는 랭체인을 사랑합니다.'"
            ],
            "application/vnd.google.colaboratory.intrinsic+json": {
              "type": "string"
            }
          },
          "metadata": {},
          "execution_count": 53
        }
      ]
    },
    {
      "cell_type": "code",
      "source": [
        "messages = [\n",
        "    SystemMessage(content = '당신은 공부 계획을 세워주는 스터디 플래너 입니다. 사용자의 학습 계획을 세워주라'),\n",
        "    HumanMessage(content = 'Large ㅣangeuge Model에 대해 공부학 싶어요')\n",
        "]"
      ],
      "metadata": {
        "id": "2K93imlnCa6B"
      },
      "execution_count": 54,
      "outputs": []
    },
    {
      "cell_type": "code",
      "source": [
        "response = chatgpt(messages)\n",
        "response.content"
      ],
      "metadata": {
        "colab": {
          "base_uri": "https://localhost:8080/",
          "height": 200
        },
        "id": "T7tQG-haDC5h",
        "outputId": "e02a07d9-322e-48dd-ba54-e21371d8392f"
      },
      "execution_count": 55,
      "outputs": [
        {
          "output_type": "execute_result",
          "data": {
            "text/plain": [
              "'훌륭한 선택입니다! Large Language Model에 대해 공부할 때는 다음과 같은 계획을 세울 수 있습니다:\\n\\n1. 개요 이해하기:\\n   - Large Language Model의 개념과 역할에 대해 알아보세요.\\n   - 언어 모델링의 기본 개념과 중요성을 이해하세요.\\n\\n2. Large Language Model의 구조와 원리 학습하기:\\n   - 대표적인 Large Language Model인 GPT-3, BERT 등에 대해 조사해보세요.\\n   - 이러한 모델들의 구조와 작동 원리에 대해 학습하세요.\\n   - Pre-training과 Fine-tuning 단계에 대해 이해하세요.\\n\\n3. Large Language Model의 응용 분야 탐구하기:\\n   - 대화 시스템, 기계 번역, 텍스트 생성 등 Large Language Model이 사용되는 응용 분야들에 대해 조사해보세요.\\n   - 이러한 응용 분야에서 Large Language Model의 한계와 가능성에 대해 알아보세요.\\n\\n4. 관련 논문 읽기:\\n   - Large Language Model과 관련된 최신 논문들을 찾아 읽어보세요.\\n   - 주요 연구자들의 작업에 대해 알아보고, 현재 연구 동향을 파악하세요.\\n\\n5. 실습과 프로젝트:\\n   - 실제로 Large Language Model을 사용해보고 싶다면, 실습과 프로젝트를 진행해보세요.\\n   - Hugging Face Transformers 라이브러리 등을 사용해 모델을 구현하고, 다양한 자연어 처리 작업을 수행해보세요.\\n\\n6. 커뮤니티 참여:\\n   - 관련된 온라인 커뮤니티나 포럼에 참여하여 다른 사람들과 의견을 나누고, 질문을 해결해보세요.\\n   - 대화나 토론을 통해 지식을 공유하고 배울 수 있습니다.\\n\\n위의 계획을 참고하여 Large Language Model에 대한 공부 계획을 세우시면 됩니다. 목표를 분명히 하고 단계별로 진행하여 체계적으로 학습할 수 있도록 노력해보세요. 행운을 빕니다!'"
            ],
            "application/vnd.google.colaboratory.intrinsic+json": {
              "type": "string"
            }
          },
          "metadata": {},
          "execution_count": 55
        }
      ]
    },
    {
      "cell_type": "code",
      "source": [
        "#Streaming으로 데이터를 출력하는 방법\n",
        "from langchain.callbacks.streaming_stdout import StreamingStdOutCallbackHandler\n",
        "\n",
        "chatgpt = AzureChatOpenAI(\n",
        "    deployment_name = 'dev-gpt-35',\n",
        "    temperature = 0,\n",
        "    streaming = True,\n",
        "    callbacks = [StreamingStdOutCallbackHandler()])\n",
        "\n",
        "# 출력방법 1\n",
        "response = chatgpt(messages)\n",
        "response.content\n",
        "\n",
        "# 출력방법 2\n",
        "#chatgpt(messages).content"
      ],
      "metadata": {
        "colab": {
          "base_uri": "https://localhost:8080/",
          "height": 1000
        },
        "id": "1uDqB0OjDzVy",
        "outputId": "3a047194-f4bc-496a-f3be-6a76ee389dd8"
      },
      "execution_count": 58,
      "outputs": [
        {
          "output_type": "stream",
          "name": "stdout",
          "text": [
            "물론입니다! Large Language Model에 대해 공부하고 싶으시군요. 아래는 Large Language Model에 대한 학습 계획을 제안해 드리겠습니다.\n",
            "\n",
            "1. 기본 개념 이해하기:\n",
            "   - Large Language Model이란 무엇인지 이해하기\n",
            "   - Language Model의 기본 개념과 작동 원리 이해하기\n",
            "\n",
            "2. 대표적인 Large Language Model 알아보기:\n",
            "   - GPT-3 (Generative Pre-trained Transformer 3) 등 대표적인 Large Language Model에 대해 알아보기\n",
            "   - 각 모델의 특징과 활용 분야 파악하기\n",
            "\n",
            "3. Large Language Model의 학습 방법 이해하기:\n",
            "   - Pre-training과 Fine-tuning 과정에 대해 이해하기\n",
            "   - 데이터 수집, 전처리, 모델 학습 등의 과정 파악하기\n",
            "\n",
            "4. Large Language Model의 활용 분야 탐색하기:\n",
            "   - 자연어 처리, 기계 번역, 질의응답 시스템 등 다양한 분야에서의 활용 사례 탐색하기\n",
            "   - 최신 연구 동향과 적용 사례 파악하기\n",
            "\n",
            "5. 실습과 프로젝트:\n",
            "   - Large Language Model을 활용한 실습과 프로젝트 진행해보기\n",
            "   - 예를 들어, GPT-3를 사용하여 텍스트 생성 모델 구현하기 등\n",
            "\n",
            "6. 관련 논문과 자료 공부하기:\n",
            "   - Large Language Model에 관련된 최신 논문과 자료를 찾아 읽고 학습하기\n",
            "   - OpenAI의 블로그나 관련 커뮤니티에서 다양한 자료 참고하기\n",
            "\n",
            "7. 토론과 공유:\n",
            "   - 관련된 스터디 그룹이나 온라인 커뮤니티에서 토론하고 공유하기\n",
            "   - 다른 사람들과 의견을 나누며 학습 내용을 공유하고 발전시키기\n",
            "\n",
            "위의 계획을 참고하여 Large Language Model에 대한 공부를 시작해보세요. 학습 계획을 세우고 일정을 관리하며 꾸준히 공부하는 것이 중요합니다. 힘내시고 좋은 결과 얻으시길 바랍니다!물론입니다! Large Language Model에 대해 공부하고 싶으시군요. 아래는 Large Language Model에 대한 학습 계획을 제안해 드리겠습니다.\n",
            "\n",
            "1. 기본 개념 이해하기:\n",
            "   - Large Language Model이란 무엇인지 이해하기\n",
            "   - Language Model의 기본 개념과 작동 원리 이해하기\n",
            "\n",
            "2. 대표적인 Large Language Model 알아보기:\n",
            "   - GPT-3 (Generative Pre-trained Transformer 3) 등 대표적인 Large Language Model에 대해 알아보기\n",
            "   - 각 모델의 특징과 활용 분야 파악하기\n",
            "\n",
            "3. Large Language Model의 학습 방법 이해하기:\n",
            "   - Pre-training과 Fine-tuning 과정에 대해 이해하기\n",
            "   - 데이터 수집과 전처리, 모델 학습 등의 과정 파악하기\n",
            "\n",
            "4. Large Language Model의 활용 분야 탐색하기:\n",
            "   - 자연어 처리, 기계 번역, 질의응답 시스템 등 다양한 분야에서의 활용 사례 탐구하기\n",
            "   - 최신 연구 동향과 적용 사례 파악하기\n",
            "\n",
            "5. 실습과 프로젝트:\n",
            "   - Large Language Model을 활용한 실습과 프로젝트 진행해보기\n",
            "   - 예를 들어, GPT-3를 사용하여 텍스트 생성 모델을 구현해보거나, 특정 분야에서의 문제 해결을 위한 모델 개발 등을 시도해볼 수 있습니다.\n",
            "\n",
            "6. 관련 논문과 자료 공부:\n",
            "   - Large Language Model에 관련된 최신 논문과 자료를 찾아 읽어보기\n",
            "   - 관련된 연구 동향과 발전 방향에 대해 파악하기\n",
            "\n",
            "7. 커뮤니티 참여:\n",
            "   - 관련된 온라인 커뮤니티나 포럼에 참여하여 다른 사람들과 의견을 공유하고 정보를 얻기\n",
            "   - 관련된 학회나 컨퍼런스에 참석하여 최신 동향을 알아보기\n",
            "\n",
            "위의 계획을 참고하여 Large Language Model에 대한 공부를 시작해보세요. 계획을 조정하거나 추가할 부분이 있다면 언제든지 말씀해주세요. 좋은 공부 되시길 바랍니다!"
          ]
        },
        {
          "output_type": "execute_result",
          "data": {
            "text/plain": [
              "'물론입니다! Large Language Model에 대해 공부하고 싶으시군요. 아래는 Large Language Model에 대한 학습 계획을 제안해 드리겠습니다.\\n\\n1. 기본 개념 이해하기:\\n   - Large Language Model이란 무엇인지 이해하기\\n   - Language Model의 기본 개념과 작동 원리 이해하기\\n\\n2. 대표적인 Large Language Model 알아보기:\\n   - GPT-3 (Generative Pre-trained Transformer 3) 등 대표적인 Large Language Model에 대해 알아보기\\n   - 각 모델의 특징과 활용 분야 파악하기\\n\\n3. Large Language Model의 학습 방법 이해하기:\\n   - Pre-training과 Fine-tuning 과정에 대해 이해하기\\n   - 데이터 수집과 전처리, 모델 학습 등의 과정 파악하기\\n\\n4. Large Language Model의 활용 분야 탐색하기:\\n   - 자연어 처리, 기계 번역, 질의응답 시스템 등 다양한 분야에서의 활용 사례 탐구하기\\n   - 최신 연구 동향과 적용 사례 파악하기\\n\\n5. 실습과 프로젝트:\\n   - Large Language Model을 활용한 실습과 프로젝트 진행해보기\\n   - 예를 들어, GPT-3를 사용하여 텍스트 생성 모델을 구현해보거나, 특정 분야에서의 문제 해결을 위한 모델 개발 등을 시도해볼 수 있습니다.\\n\\n6. 관련 논문과 자료 공부:\\n   - Large Language Model에 관련된 최신 논문과 자료를 찾아 읽어보기\\n   - 관련된 연구 동향과 발전 방향에 대해 파악하기\\n\\n7. 커뮤니티 참여:\\n   - 관련된 온라인 커뮤니티나 포럼에 참여하여 다른 사람들과 의견을 공유하고 정보를 얻기\\n   - 관련된 학회나 컨퍼런스에 참석하여 최신 동향을 알아보기\\n\\n위의 계획을 참고하여 Large Language Model에 대한 공부를 시작해보세요. 계획을 조정하거나 추가할 부분이 있다면 언제든지 말씀해주세요. 좋은 공부 되시길 바랍니다!'"
            ],
            "application/vnd.google.colaboratory.intrinsic+json": {
              "type": "string"
            }
          },
          "metadata": {},
          "execution_count": 58
        }
      ]
    },
    {
      "cell_type": "code",
      "source": [],
      "metadata": {
        "id": "EdVrZS_yFtRZ"
      },
      "execution_count": null,
      "outputs": []
    }
  ]
}